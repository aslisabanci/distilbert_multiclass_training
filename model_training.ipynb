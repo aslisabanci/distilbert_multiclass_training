{
 "cells": [
  {
   "cell_type": "markdown",
   "metadata": {},
   "source": [
    "# Template Model Development Notebook"
   ]
  },
  {
   "source": [
    "The instructions in this notebook will guide you to setup your ML project, and help you connect the pieces together for the automated deployment workflow between this ML repository and Algorithmia."
   ],
   "cell_type": "markdown",
   "metadata": {}
  },
  {
   "cell_type": "markdown",
   "metadata": {},
   "source": [
    "## 1. Train, evaluate and test your ML model\n",
    "First train, evaluate and test your model as usual."
   ]
  },
  {
   "cell_type": "code",
   "execution_count": null,
   "metadata": {},
   "outputs": [],
   "source": [
    "# Import Python packages, make sure your requirements.txt contains them!\n",
    "\n",
    "# Use your train/test data\n",
    "\n",
    "# Create your model object\n",
    "\n",
    "# Do train/eval/test as usual"
   ]
  },
  {
   "cell_type": "markdown",
   "metadata": {},
   "source": [
    "## 2. Save your model object to a file\n",
    "When your model is ready, save it locally. Expected model file name by the Github Action is **`model.pkl`** by default. If your model file is named differently, make sure to put it in your **`./github/workflows/algorithmia_deploy.yml`** \n",
    "\n",
    "You do not need to check-in your model file to this repository. During the workflow, this notebook will be executed on a Github worker machine and the resulting model file will be uploaded to Algorithmia by our Github Action."
   ]
  },
  {
   "cell_type": "code",
   "execution_count": null,
   "metadata": {},
   "outputs": [],
   "source": [
    "# An example snippet to save your model file would be:\n",
    "joblib.dump(model, \"model.pkl\", compress=True)"
   ]
  },
  {
   "cell_type": "markdown",
   "metadata": {},
   "source": [
    "## 3. Test your serving (Algorithm) code\n",
    "Rename the **`YOUR_ALGORITHM_NAME.py`** file with your algorithm's name and start working on your model serving code. \n",
    "\n",
    "You can execute that script from within this notebook to test your code locally. \n",
    "\n",
    "When you run your .py file with the `%run` macro as below, it will begin its execution through the **`if __name__ == \"__main__\"`** line. Make sure that your code executes fine and your algorithm is ready to be pushed to Algorithmia.\n"
   ]
  },
  {
   "cell_type": "code",
   "execution_count": null,
   "metadata": {},
   "outputs": [],
   "source": [
    "%run  YOUR_ALGORITHM_DIR/src/YOUR_ALGORITHM_NAME.py"
   ]
  },
  {
   "cell_type": "markdown",
   "metadata": {},
   "source": [
    "## Final checks before committing this notebook\n",
    "\n",
    "- Once you are happy with your tests, you can remove the **`if __name__ == \"__main__\"`** snippet from your algorithm script. Remember that all of its contents will be pushed to Algorithmia. Don't stress though, you can always edit!\n",
    "\n",
    "- Make sure that you do not commit/push your Algorithmia API Key!"
   ]
  }
 ],
 "metadata": {
  "kernelspec": {
   "display_name": "Python 3",
   "language": "python",
   "name": "python3"
  },
  "language_info": {
   "codemirror_mode": {
    "name": "ipython",
    "version": 3
   },
   "file_extension": ".py",
   "mimetype": "text/x-python",
   "name": "python",
   "nbconvert_exporter": "python",
   "pygments_lexer": "ipython3",
   "version": "3.8.3-final"
  }
 },
 "nbformat": 4,
 "nbformat_minor": 4
}